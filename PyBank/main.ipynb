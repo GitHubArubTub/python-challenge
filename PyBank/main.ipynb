{
 "cells": [
  {
   "cell_type": "markdown",
   "id": "f10834d2-0eca-4796-8f6e-e553f730393e",
   "metadata": {},
   "source": [
    "## Pybank Assignment"
   ]
  },
  {
   "cell_type": "code",
   "execution_count": 15,
   "id": "389ffa8b-61c7-4722-a473-a8e195b9c98a",
   "metadata": {},
   "outputs": [],
   "source": [
    "import os\n",
    "import csv"
   ]
  },
  {
   "cell_type": "code",
   "execution_count": 24,
   "id": "169e1bf3-e246-4c77-b5cc-4a8683be276f",
   "metadata": {},
   "outputs": [
    {
     "name": "stdout",
     "output_type": "stream",
     "text": [
      "Financial Analysis\n",
      "----------------------------\n",
      "Total Months: 86\n",
      "Total: $38382578\n",
      "Average Change: $-2315.12\n",
      "Greatest Increase in Profits: Feb-2012 ($1926159)\n",
      "Greatest Decrease in Profits: Sep-2013 ($-2196167)\n",
      "\n",
      "\n",
      "\n",
      "Analysis results have been exported to 'financial_analysis.txt'.\n"
     ]
    }
   ],
   "source": [
    "current_dir = os.getcwd()\n",
    "path_budget_data = os.path.join(current_dir,\"Resources\",\"budget_data.csv\")\n",
    "output_file = os.path.join(current_dir, \"financial_analysis.txt\")\n",
    "\n",
    "\n",
    "def read_csv_file(file_path):\n",
    "    data = []\n",
    "    with open(file_path, 'r') as file:\n",
    "        reader = csv.DictReader(file)\n",
    "        for row in reader: \n",
    "            data.append(dict(row))\n",
    "    return data\n",
    "\n",
    "data = read_csv_file(path_budget_data)\n",
    "\n",
    "# Calculate total months\n",
    "total_months = len(data)\n",
    "\n",
    "# Calculate net total\n",
    "net_total = sum(int(row['Profit/Losses']) for row in data)\n",
    "\n",
    "# Calculate Average Changes\n",
    "changes = [int(data[i+1]['Profit/Losses']) - int(data[i]['Profit/Losses']) for i in range(len(data)-1)]\n",
    "average_change = sum(changes) / len(changes)\n",
    "\n",
    "\n",
    "# Calculate Greatest Increase & Decrease \n",
    "max_increase = max(changes)\n",
    "max_increase_date = data[changes.index(max_increase) + 1]['Date']\n",
    "\n",
    "max_decrease = min(changes)\n",
    "max_decrease_date = data[changes.index(max_decrease) + 1]['Date']\n",
    "\n",
    "# Print analysis results\n",
    "print(\"Financial Analysis\")\n",
    "print(\"----------------------------\")\n",
    "print(f\"Total Months: {total_months}\")\n",
    "print(f\"Total: ${net_total}\")\n",
    "print(f\"Average Change: ${average_change:.2f}\")\n",
    "print(f\"Greatest Increase in Profits: {max_increase_date} (${max_increase})\")\n",
    "print(f\"Greatest Decrease in Profits: {max_decrease_date} (${max_decrease})\")\n",
    "\n",
    "# Export analysis results to a text file\n",
    "with open(output_file, 'w') as file:\n",
    "    file.write(\"Financial Analysis\\n\")\n",
    "    file.write(\"----------------------------\\n\")\n",
    "    file.write(f\"Total Months: {total_months}\\n\")\n",
    "    file.write(f\"Total: ${net_total}\\n\")\n",
    "    file.write(f\"Average Change: ${average_change:.2f}\\n\")\n",
    "    file.write(f\"Greatest Increase in Profits: {max_increase_date} (${max_increase})\\n\")\n",
    "    file.write(f\"Greatest Decrease in Profits: {max_decrease_date} (${max_decrease})\\n\")\n",
    "    \n",
    "print(\"\\n\\n\")\n",
    "\n",
    "print(\"Analysis results have been exported to 'financial_analysis.txt'.\")\n",
    "\n"
   ]
  },
  {
   "cell_type": "code",
   "execution_count": null,
   "id": "8bca10c8-a65d-4871-a175-cf13df61ddeb",
   "metadata": {},
   "outputs": [],
   "source": []
  }
 ],
 "metadata": {
  "kernelspec": {
   "display_name": "Python 3 (ipykernel)",
   "language": "python",
   "name": "python3"
  },
  "language_info": {
   "codemirror_mode": {
    "name": "ipython",
    "version": 3
   },
   "file_extension": ".py",
   "mimetype": "text/x-python",
   "name": "python",
   "nbconvert_exporter": "python",
   "pygments_lexer": "ipython3",
   "version": "3.10.9"
  }
 },
 "nbformat": 4,
 "nbformat_minor": 5
}
